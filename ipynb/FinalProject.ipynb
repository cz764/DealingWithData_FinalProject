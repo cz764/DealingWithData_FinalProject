{
 "metadata": {
  "name": ""
 },
 "nbformat": 3,
 "nbformat_minor": 0,
 "worksheets": [
  {
   "cells": [
    {
     "cell_type": "heading",
     "level": 1,
     "metadata": {},
     "source": [
      "Final Project: Kongbao Check-in"
     ]
    },
    {
     "cell_type": "heading",
     "level": 2,
     "metadata": {},
     "source": [
      "Kun Liu: kl, Chen Zhu: cz764"
     ]
    },
    {
     "cell_type": "markdown",
     "metadata": {},
     "source": [
      "Fetching the geo data using address through google map api"
     ]
    },
    {
     "cell_type": "code",
     "collapsed": false,
     "input": [
      "import mysqldao\n",
      "import urllib\n",
      "\n",
      "address = \"\"\"\n",
      "REPLACE(\n",
      "CONCAT(address1, ' ',address2, ' ', city, ' ', state,' ', zip),\n",
      "'  ', ' ')\n",
      "address\"\"\"\n",
      "\n",
      "yelp_query = mysqldao.select('yelp', 'yelp_phone', ['phone', address, 'zip'])\n",
      "address = urllib.quote(yelp_query[1][1])\n",
      "address\n",
      "request = \"\""
     ],
     "language": "python",
     "metadata": {},
     "outputs": [
      {
       "metadata": {},
       "output_type": "pyout",
       "prompt_number": 15,
       "text": [
        "'333%20Washington%20St%20Hoboken%20NJ%2007030'"
       ]
      }
     ],
     "prompt_number": 15
    },
    {
     "cell_type": "code",
     "collapsed": false,
     "input": [],
     "language": "python",
     "metadata": {},
     "outputs": []
    }
   ],
   "metadata": {}
  }
 ]
}