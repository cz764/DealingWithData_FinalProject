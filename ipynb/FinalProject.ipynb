{
 "metadata": {
  "name": ""
 },
 "nbformat": 3,
 "nbformat_minor": 0,
 "worksheets": [
  {
   "cells": [
    {
     "cell_type": "heading",
     "level": 1,
     "metadata": {},
     "source": [
      "Final Project: Kongbao Check-in"
     ]
    },
    {
     "cell_type": "heading",
     "level": 2,
     "metadata": {},
     "source": [
      "Kun Liu: kl, Chen Zhu: cz764"
     ]
    },
    {
     "cell_type": "markdown",
     "metadata": {},
     "source": [
      "Fetching the geo data using address through google map api"
     ]
    },
    {
     "cell_type": "code",
     "collapsed": false,
     "input": [
      "import mysqldao\n",
      "import urllib\n",
      "\n",
      "address = \"\"\"\n",
      "REPLACE(\n",
      "CONCAT(address1, ' ',address2, ' ', city, ' ', state,' ', zip),\n",
      "'  ', ' ')\n",
      "address\"\"\"\n",
      "\n",
      "yelp_query = mysqldao.select('yelp', 'yelp_phone', ['phone', address, 'zip'])\n",
      "address = urllib.quote(yelp_query[1][1])"
     ],
     "language": "python",
     "metadata": {},
     "outputs": [],
     "prompt_number": 27
    },
    {
     "cell_type": "code",
     "collapsed": false,
     "input": [
      "import json\n",
      "import requests\n",
      "\n",
      "address = [ [query[0], query[1]] for query in yelp_query ]\n",
      "urls = []\n",
      "\n",
      "for adr in address:\n",
      "    url = 'http://maps.googleapis.com/maps/api/geocode/json?address=\"%s\"&sensor=true' % urllib.quote(adr[1])\n",
      "    urls.append(url)\n",
      "    \n",
      "\n",
      "resp = requests.get(urls[0])\n",
      "data = json.loads(resp.text)\n",
      "data[\"results\"][0][\"geometry\"][\"\"]"
     ],
     "language": "python",
     "metadata": {},
     "outputs": [
      {
       "metadata": {},
       "output_type": "pyout",
       "prompt_number": 42,
       "text": [
        "{u'location': {u'lat': 40.7410246, u'lng': -74.0296042},\n",
        " u'location_type': u'ROOFTOP',\n",
        " u'viewport': {u'northeast': {u'lat': 40.74237358029149,\n",
        "   u'lng': -74.02825521970848},\n",
        "  u'southwest': {u'lat': 40.73967561970849, u'lng': -74.0309531802915}}}"
       ]
      }
     ],
     "prompt_number": 42
    },
    {
     "cell_type": "code",
     "collapsed": false,
     "input": [],
     "language": "python",
     "metadata": {},
     "outputs": []
    }
   ],
   "metadata": {}
  }
 ]
}